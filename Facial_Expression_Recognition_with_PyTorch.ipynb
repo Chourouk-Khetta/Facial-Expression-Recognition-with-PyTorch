{
  "cells": [
    {
      "cell_type": "markdown",
      "metadata": {
        "id": "G_M90-_f3k8m"
      },
      "source": [
        "# Dataset available at kaggle\n",
        "\n",
        "https://www.kaggle.com/jonathanoheix/face-expression-recognition-dataset"
      ]
    },
    {
      "cell_type": "markdown",
      "metadata": {
        "id": "TVZJB6C5vobN"
      },
      "source": [
        "# Install libraries, packages and dataset"
      ]
    },
    {
      "cell_type": "code",
      "execution_count": null,
      "metadata": {
        "colab": {
          "base_uri": "https://localhost:8080/"
        },
        "id": "WPaMVYICuTRa",
        "outputId": "782ee7ca-7084-4ced-ba6e-6bcbc6ad0ac6"
      },
      "outputs": [
        {
          "output_type": "stream",
          "name": "stdout",
          "text": [
            "fatal: destination path 'Facial-Expression-Dataset' already exists and is not an empty directory.\n"
          ]
        }
      ],
      "source": [
        "!git clone https://github.com/parth1620/Facial-Expression-Dataset.git"
      ]
    },
    {
      "cell_type": "markdown",
      "metadata": {
        "id": "xoVVdBpoweEk"
      },
      "source": [
        "# Imports"
      ]
    },
    {
      "cell_type": "code",
      "execution_count": null,
      "metadata": {
        "id": "creZrxH0vv20"
      },
      "outputs": [],
      "source": [
        "import numpy as np\n",
        "import matplotlib.pyplot as plt\n",
        "import torch"
      ]
    },
    {
      "cell_type": "markdown",
      "metadata": {
        "id": "p5604GKdwtAr"
      },
      "source": [
        "# Configurations"
      ]
    },
    {
      "cell_type": "code",
      "execution_count": null,
      "metadata": {
        "id": "dd6v8vyGwp3F"
      },
      "outputs": [],
      "source": [
        "TRAIN_IMG_FOLDER_PATH='/content/Facial-Expression-Dataset/train/'\n",
        "VALID_IMG_FOLDER_PATH='/content/Facial-Expression-Dataset/validation/'\n",
        "\n",
        "L_rate=0.001\n",
        "BATCH_SIZE=32\n",
        "epoch=15\n",
        "\n",
        "\n",
        "Device= 'cuda'\n",
        "Model_name='efficientnet_b0'"
      ]
    },
    {
      "cell_type": "markdown",
      "metadata": {
        "id": "wn5jWAF9xDUY"
      },
      "source": [
        "# Load Dataset"
      ]
    },
    {
      "cell_type": "code",
      "execution_count": null,
      "metadata": {
        "id": "uvujfkVHxJ0V"
      },
      "outputs": [],
      "source": [
        "from torchvision.datasets import ImageFolder\n",
        "from torchvision import transforms as T"
      ]
    },
    {
      "cell_type": "code",
      "execution_count": null,
      "metadata": {
        "id": "Jqf-Ktqsx9WL"
      },
      "outputs": [],
      "source": [
        "train_ogms = T.Compose([\n",
        "    T.Grayscale(num_output_channels=1),\n",
        "    T.RandomHorizontalFlip(p=0.5),\n",
        "    T.RandomRotation((-20, +20)),\n",
        "    T.ToTensor()\n",
        "])\n",
        "\n",
        "\n",
        "valid_ogms = T.Compose([\n",
        "    T.Grayscale(num_output_channels=1),\n",
        "    T.ToTensor()\n",
        "])"
      ]
    },
    {
      "cell_type": "code",
      "execution_count": null,
      "metadata": {
        "id": "oeU1NfmYxC7J"
      },
      "outputs": [],
      "source": [
        "trainset = ImageFolder( TRAIN_IMG_FOLDER_PATH, transform = train_ogms )\n",
        "validset = ImageFolder( VALID_IMG_FOLDER_PATH, transform = valid_ogms )"
      ]
    },
    {
      "cell_type": "code",
      "execution_count": null,
      "metadata": {
        "colab": {
          "base_uri": "https://localhost:8080/"
        },
        "id": "eznRIKAzzuCj",
        "outputId": "3de84b71-7884-4454-91cd-283e1bff0755"
      },
      "outputs": [
        {
          "output_type": "stream",
          "name": "stdout",
          "text": [
            "Total no. of examples in trainset : 28821\n",
            "Total no. of examples in validset : 7066\n"
          ]
        }
      ],
      "source": [
        "print(f\"Total no. of examples in trainset : {len(trainset)}\")\n",
        "print(f\"Total no. of examples in validset : {len(validset)}\")"
      ]
    },
    {
      "cell_type": "code",
      "execution_count": null,
      "metadata": {
        "colab": {
          "base_uri": "https://localhost:8080/"
        },
        "id": "NtoA4SRny_vz",
        "outputId": "a84c1b56-8e30-452f-ca81-1288f6e0c481"
      },
      "outputs": [
        {
          "output_type": "stream",
          "name": "stdout",
          "text": [
            "{'angry': 0, 'disgust': 1, 'fear': 2, 'happy': 3, 'neutral': 4, 'sad': 5, 'surprise': 6}\n"
          ]
        }
      ],
      "source": [
        "print(trainset.class_to_idx)"
      ]
    },
    {
      "cell_type": "code",
      "execution_count": null,
      "metadata": {
        "colab": {
          "base_uri": "https://localhost:8080/",
          "height": 469
        },
        "id": "0-b1SLqNw91J",
        "outputId": "7eebb846-43fd-4308-e8da-a1ac1611382c"
      },
      "outputs": [
        {
          "output_type": "execute_result",
          "data": {
            "text/plain": [
              "Text(0.5, 1.0, 'angry')"
            ]
          },
          "metadata": {},
          "execution_count": 11
        },
        {
          "output_type": "display_data",
          "data": {
            "text/plain": [
              "<Figure size 640x480 with 1 Axes>"
            ],
            "image/png": "[encoded data removed]"
          },
          "metadata": {}
        }
      ],
      "source": [
        "image, label = trainset[50]\n",
        "class_name = trainset.classes[label]\n",
        "\n",
        "plt.imshow(image.permute(1,2,0))\n",
        "plt.title(class_name)"
      ]
    },
    {
      "cell_type": "markdown",
      "metadata": {
        "id": "w06OzMxD38_I"
      },
      "source": [
        "This becomes shape [48, 48, 1], which is a single-channel image, but imshow() still applies a default colormap (usually 'viridis') to visualize the intensity values as pseudo-color.\n",
        "\n",
        "This is just a visualization trick, not actual color in the image."
      ]
    },
    {
      "cell_type": "code",
      "execution_count": null,
      "metadata": {
        "colab": {
          "base_uri": "https://localhost:8080/",
          "height": 428
        },
        "id": "ug3IDitx4MYT",
        "outputId": "3cd50de7-98c3-472c-d76d-009e8b05c44f"
      },
      "outputs": [
        {
          "output_type": "display_data",
          "data": {
            "text/plain": [
              "<Figure size 640x480 with 1 Axes>"
            ],
            "image/png": "[encoded data removed]"
          },
          "metadata": {}
        }
      ],
      "source": [
        "plt.imshow(image.squeeze(0), cmap='gray')  # squeeze to [48, 48]\n",
        "plt.title(class_name)\n",
        "plt.axis('off')\n",
        "plt.show()\n"
      ]
    },
    {
      "cell_type": "markdown",
      "metadata": {
        "id": "UjVmykAGy0Sh"
      },
      "source": [
        "# Load Dataset into Batches"
      ]
    },
    {
      "cell_type": "code",
      "execution_count": null,
      "metadata": {
        "id": "egpuikhHymP7"
      },
      "outputs": [],
      "source": [
        "from torch.utils.data import DataLoader"
      ]
    },
    {
      "cell_type": "code",
      "execution_count": null,
      "metadata": {
        "id": "Pea8G9-HzhuZ"
      },
      "outputs": [],
      "source": [
        "trainloader = DataLoader( trainset, batch_size = BATCH_SIZE, shuffle = True)\n",
        "validloader = DataLoader( validset, batch_size = BATCH_SIZE )"
      ]
    },
    {
      "cell_type": "code",
      "execution_count": null,
      "metadata": {
        "colab": {
          "base_uri": "https://localhost:8080/"
        },
        "id": "mjf9oeOBzihh",
        "outputId": "d926acec-933d-4fd0-dd5e-d8b13b70303b"
      },
      "outputs": [
        {
          "output_type": "stream",
          "name": "stdout",
          "text": [
            "Total no. of batches in trainloader : 901\n",
            "Total no. of batches in validloader : 221\n"
          ]
        }
      ],
      "source": [
        "print(f\"Total no. of batches in trainloader : {len(trainloader)}\")\n",
        "print(f\"Total no. of batches in validloader : {len(validloader)}\")"
      ]
    },
    {
      "cell_type": "code",
      "execution_count": null,
      "metadata": {
        "colab": {
          "base_uri": "https://localhost:8080/"
        },
        "id": "vtVSVVj-zp1C",
        "outputId": "e0c74f0d-5232-4026-eaa6-14b00d096bb9"
      },
      "outputs": [
        {
          "output_type": "stream",
          "name": "stdout",
          "text": [
            "One image batch shape : torch.Size([32, 1, 48, 48])\n",
            "One label batch shape : torch.Size([32])\n"
          ]
        }
      ],
      "source": [
        "for images, labels in trainloader :\n",
        "    break;\n",
        "\n",
        "print(f\"One image batch shape : {images.shape}\")\n",
        "print(f\"One label batch shape : {labels.shape}\")"
      ]
    },
    {
      "cell_type": "code",
      "execution_count": null,
      "metadata": {
        "colab": {
          "base_uri": "https://localhost:8080/"
        },
        "id": "iQsI8G5VvsJs",
        "outputId": "f5a3ef2e-bd5c-411e-ba95-87c6bf883fef"
      },
      "outputs": [
        {
          "output_type": "stream",
          "name": "stdout",
          "text": [
            "Folders: ['train', 'validation', '.git']\n"
          ]
        }
      ],
      "source": [
        "import os\n",
        "\n",
        "base_path = \"/content/Facial-Expression-Dataset\"\n",
        "print(\"Folders:\", os.listdir(base_path))\n"
      ]
    },
    {
      "cell_type": "code",
      "execution_count": null,
      "metadata": {
        "colab": {
          "base_uri": "https://localhost:8080/"
        },
        "id": "QKJ_XLoQxVLw",
        "outputId": "cdeeb530-b395-4c76-8080-bd22a5f8904a"
      },
      "outputs": [
        {
          "output_type": "stream",
          "name": "stdout",
          "text": [
            "Emotion folders: ['disgust', 'happy', 'sad', 'fear', 'neutral', 'angry', 'surprise']\n"
          ]
        }
      ],
      "source": [
        "train_path = os.path.join(base_path, \"train\")\n",
        "print(\"Emotion folders:\", os.listdir(train_path))\n"
      ]
    },
    {
      "cell_type": "code",
      "execution_count": null,
      "metadata": {
        "colab": {
          "base_uri": "https://localhost:8080/"
        },
        "id": "qCArZ7EDxYE-",
        "outputId": "86ddc827-3d34-42ec-fb5a-0b467c3332f8"
      },
      "outputs": [
        {
          "output_type": "stream",
          "name": "stdout",
          "text": [
            "Example files: ['23383.jpg', '26671.jpg', '26068.jpg', '19343.jpg', '7942.jpg']\n"
          ]
        }
      ],
      "source": [
        "happy_path = os.path.join(train_path, \"happy\")\n",
        "print(\"Example files:\", os.listdir(happy_path)[:5])\n"
      ]
    },
    {
      "cell_type": "code",
      "execution_count": null,
      "metadata": {
        "colab": {
          "base_uri": "https://localhost:8080/"
        },
        "id": "EM9MCcILxeRk",
        "outputId": "4b698c7b-e06c-47f6-a339-ff6bce2f498b"
      },
      "outputs": [
        {
          "output_type": "stream",
          "name": "stdout",
          "text": [
            "Image mode: L\n"
          ]
        }
      ],
      "source": [
        "from PIL import Image\n",
        "\n",
        "image_path = os.path.join(happy_path, '8652.jpg')  # Use an actual filename from above\n",
        "img = Image.open(image_path)\n",
        "\n",
        "print(\"Image mode:\", img.mode)  # Should be 'L' or 'RGB'\n"
      ]
    },
    {
      "cell_type": "markdown",
      "metadata": {
        "id": "GQvgvbKu0TUG"
      },
      "source": [
        "# Create Model"
      ]
    },
    {
      "cell_type": "code",
      "execution_count": null,
      "metadata": {
        "id": "iqwWf5-O0SWP"
      },
      "outputs": [],
      "source": [
        "import torch\n",
        "import torch.nn as nn\n",
        "import torchvision.models as models\n",
        "\n",
        "class EmotionResNet(nn.Module):\n",
        "    def __init__(self, num_classes=7):  # 7 emotions\n",
        "        super(EmotionResNet, self).__init__()\n",
        "\n",
        "        # Load pretrained ResNet18\n",
        "        self.model = models.resnet18(pretrained=True)\n",
        "\n",
        "        # Modify the first convolution layer to accept 1-channel (grayscale) input\n",
        "        self.model.conv1 = nn.Conv2d(1, 64, kernel_size=7, stride=2, padding=3, bias=False)\n",
        "\n",
        "        # Replace the fully connected layer with your classifier\n",
        "        in_features = self.model.fc.in_features\n",
        "        self.model.fc = nn.Sequential(\n",
        "            nn.Linear(in_features, 128),\n",
        "            nn.ReLU(),\n",
        "            nn.Dropout(0.5),\n",
        "            nn.Linear(128, num_classes)\n",
        "        )\n",
        "\n",
        "    def forward(self, x):\n",
        "        return self.model(x)\n"
      ]
    },
    {
      "cell_type": "code",
      "execution_count": null,
      "metadata": {
        "colab": {
          "base_uri": "https://localhost:8080/"
        },
        "id": "U6uJZmUw0XJX",
        "outputId": "b7d5ae69-4e72-47fe-e60c-c512b3dd56f2"
      },
      "outputs": [
        {
          "output_type": "stream",
          "name": "stderr",
          "text": [
            "/usr/local/lib/python3.11/dist-packages/torchvision/models/_utils.py:208: UserWarning: The parameter 'pretrained' is deprecated since 0.13 and may be removed in the future, please use 'weights' instead.\n",
            "  warnings.warn(\n",
            "/usr/local/lib/python3.11/dist-packages/torchvision/models/_utils.py:223: UserWarning: Arguments other than a weight enum or `None` for 'weights' are deprecated since 0.13 and may be removed in the future. The current behavior is equivalent to passing `weights=ResNet18_Weights.IMAGENET1K_V1`. You can also use `weights=ResNet18_Weights.DEFAULT` to get the most up-to-date weights.\n",
            "  warnings.warn(msg)\n",
            "Downloading: \"https://download.pytorch.org/models/resnet18-f37072fd.pth\" to /root/.cache/torch/hub/checkpoints/resnet18-f37072fd.pth\n",
            "100%|██████████| 44.7M/44.7M [00:00<00:00, 118MB/s]\n"
          ]
        }
      ],
      "source": [
        "model = EmotionResNet()\n",
        "model.to(Device);"
      ]
    },
    {
      "cell_type": "code",
      "execution_count": null,
      "metadata": {
        "id": "hgp5OjEO0_2w"
      },
      "outputs": [],
      "source": []
    },
    {
      "cell_type": "markdown",
      "metadata": {
        "id": "GzDb6TdaCpF5"
      },
      "source": [
        "# Create Train and Eval Function"
      ]
    },
    {
      "cell_type": "code",
      "execution_count": null,
      "metadata": {
        "id": "eLQVQA0PVjX8"
      },
      "outputs": [],
      "source": [
        "from tqdm import tqdm"
      ]
    },
    {
      "cell_type": "code",
      "execution_count": null,
      "metadata": {
        "id": "esp-tSrxTiPX"
      },
      "outputs": [],
      "source": [
        "def multiclass_accuracy(y_pred,y_true):\n",
        "    top_p,top_class = y_pred.topk(1,dim = 1)\n",
        "    equals = top_class == y_true.view(*top_class.shape)\n",
        "    return torch.mean(equals.type(torch.FloatTensor))"
      ]
    },
    {
      "cell_type": "code",
      "execution_count": null,
      "metadata": {
        "id": "QBim_pZxColX"
      },
      "outputs": [],
      "source": [
        "def train(model, dataloader, criterion, optimizer, device):\n",
        "    model.train()\n",
        "    running_loss = 0.0\n",
        "    correct_preds = 0\n",
        "    total_preds = 0\n",
        "\n",
        "    for images, labels in dataloader:\n",
        "        images, labels = images.to(device), labels.to(device)\n",
        "\n",
        "        # Zero the gradients\n",
        "        optimizer.zero_grad()\n",
        "\n",
        "        # Forward pass\n",
        "        outputs = model(images)\n",
        "        loss = criterion(outputs, labels)\n",
        "\n",
        "        # Backward pass and optimization\n",
        "        loss.backward()\n",
        "        optimizer.step()\n",
        "\n",
        "        # Statistics\n",
        "        running_loss += loss.item() * images.size(0)\n",
        "        _, preds = torch.max(outputs, 1)\n",
        "        correct_preds += (preds == labels).sum().item()\n",
        "        total_preds += labels.size(0)\n",
        "\n",
        "    epoch_loss = running_loss / total_preds\n",
        "    epoch_acc = correct_preds / total_preds\n",
        "    return epoch_loss, epoch_acc\n"
      ]
    },
    {
      "cell_type": "code",
      "execution_count": null,
      "metadata": {
        "id": "T3eGYNqR1FeL"
      },
      "outputs": [],
      "source": [
        "def evaluate(model, dataloader, criterion, device):\n",
        "    model.eval()\n",
        "    running_loss = 0.0\n",
        "    correct_preds = 0\n",
        "    total_preds = 0\n",
        "\n",
        "    with torch.no_grad():\n",
        "        for images, labels in dataloader:\n",
        "            images, labels = images.to(device), labels.to(device)\n",
        "\n",
        "            # Forward pass\n",
        "            outputs = model(images)\n",
        "            loss = criterion(outputs, labels)\n",
        "\n",
        "            # Statistics\n",
        "            running_loss += loss.item() * images.size(0)\n",
        "            _, preds = torch.max(outputs, 1)\n",
        "            correct_preds += (preds == labels).sum().item()\n",
        "            total_preds += labels.size(0)\n",
        "\n",
        "    epoch_loss = running_loss / total_preds\n",
        "    epoch_acc = correct_preds / total_preds\n",
        "    return epoch_loss, epoch_acc\n"
      ]
    },
    {
      "cell_type": "markdown",
      "metadata": {
        "id": "f2YsWQvsXiKG"
      },
      "source": [
        "# Create Training Loop"
      ]
    },
    {
      "cell_type": "code",
      "execution_count": null,
      "metadata": {
        "colab": {
          "base_uri": "https://localhost:8080/"
        },
        "id": "mbKd9D7pWeM_",
        "outputId": "b2332b21-50e7-44da-f423-a38ecfde823d"
      },
      "outputs": [
        {
          "output_type": "stream",
          "name": "stdout",
          "text": [
            "Epoch 1/10\n",
            "  Train Loss: 1.7043 | Train Acc: 0.3159\n",
            "  Val   Loss: 1.5354 | Val   Acc: 0.3869\n",
            "Epoch 2/10\n",
            "  Train Loss: 1.5834 | Train Acc: 0.3757\n",
            "  Val   Loss: 1.7062 | Val   Acc: 0.2983\n",
            "Epoch 3/10\n",
            "  Train Loss: 1.5192 | Train Acc: 0.3983\n",
            "  Val   Loss: 1.4863 | Val   Acc: 0.4140\n",
            "Epoch 4/10\n",
            "  Train Loss: 1.4797 | Train Acc: 0.4168\n",
            "  Val   Loss: 1.4363 | Val   Acc: 0.4379\n",
            "Epoch 5/10\n",
            "  Train Loss: 1.4371 | Train Acc: 0.4458\n",
            "  Val   Loss: 1.3213 | Val   Acc: 0.4929\n",
            "Epoch 6/10\n",
            "  Train Loss: 1.3955 | Train Acc: 0.4636\n",
            "  Val   Loss: 1.2876 | Val   Acc: 0.5139\n",
            "Epoch 7/10\n",
            "  Train Loss: 1.3575 | Train Acc: 0.4824\n",
            "  Val   Loss: 1.2430 | Val   Acc: 0.5205\n",
            "Epoch 8/10\n",
            "  Train Loss: 1.3377 | Train Acc: 0.4869\n",
            "  Val   Loss: 1.2329 | Val   Acc: 0.5269\n",
            "Epoch 9/10\n",
            "  Train Loss: 1.3106 | Train Acc: 0.5035\n",
            "  Val   Loss: 1.2493 | Val   Acc: 0.5188\n",
            "Epoch 10/10\n",
            "  Train Loss: 1.3009 | Train Acc: 0.5106\n",
            "  Val   Loss: 1.2207 | Val   Acc: 0.5342\n"
          ]
        }
      ],
      "source": [
        "device = torch.device(\"cuda\" if torch.cuda.is_available() else \"cpu\")\n",
        "\n",
        "model = EmotionResNet(num_classes=7).to(device)\n",
        "criterion = nn.CrossEntropyLoss()\n",
        "optimizer = torch.optim.Adam(model.parameters(), lr=0.001)\n",
        "\n",
        "NUM_EPOCHS = 10\n",
        "\n",
        "for epoch in range(NUM_EPOCHS):\n",
        "    train_loss, train_acc = train(model, trainloader, criterion, optimizer, device)\n",
        "    val_loss, val_acc = evaluate(model, validloader, criterion, device)\n",
        "\n",
        "    print(f\"Epoch {epoch+1}/{NUM_EPOCHS}\")\n",
        "    print(f\"  Train Loss: {train_loss:.4f} | Train Acc: {train_acc:.4f}\")\n",
        "    print(f\"  Val   Loss: {val_loss:.4f} | Val   Acc: {val_acc:.4f}\")\n"
      ]
    },
    {
      "cell_type": "markdown",
      "metadata": {
        "id": "cjiklrErXkZ6"
      },
      "source": [
        "# Inference"
      ]
    },
    {
      "cell_type": "code",
      "execution_count": null,
      "metadata": {
        "id": "8iozgi4xhLNg"
      },
      "outputs": [],
      "source": [
        "import matplotlib.pyplot as plt\n",
        "\n",
        "def view_classify(img, ps):\n",
        "    classes = ['angry', 'disgust', 'fear', 'happy', 'neutral', 'sad', 'surprise']\n",
        "\n",
        "    ps = ps.data.cpu().numpy().squeeze()\n",
        "    img = img.numpy().squeeze()  # Make it [48, 48] for grayscale\n",
        "\n",
        "    fig, (ax1, ax2) = plt.subplots(figsize=(6, 9), ncols=2)\n",
        "    ax1.imshow(img, cmap='gray')  # Show in grayscale\n",
        "    ax1.axis('off')\n",
        "\n",
        "    y_pos = range(len(classes))\n",
        "    ax2.barh(y_pos, ps, color='skyblue')\n",
        "    ax2.set_aspect(0.1)\n",
        "    ax2.set_yticks(y_pos)\n",
        "    ax2.set_yticklabels(classes)\n",
        "    ax2.set_title('Class Probability')\n",
        "    ax2.set_xlim(0, 1.1)\n",
        "\n",
        "    # Add percentage text labels next to the bars\n",
        "    for i, p in enumerate(ps):\n",
        "        ax2.text(p + 0.01, i, f\"{p * 100:.2f}%\", va='center', fontsize=9)\n",
        "\n",
        "    plt.tight_layout()\n",
        "    plt.show()\n"
      ]
    },
    {
      "cell_type": "code",
      "execution_count": null,
      "metadata": {
        "id": "y_QZvnUGXmOf",
        "colab": {
          "base_uri": "https://localhost:8080/",
          "height": 281
        },
        "outputId": "9239f58e-e06e-43ae-b512-e333e8711e83"
      },
      "outputs": [
        {
          "output_type": "display_data",
          "data": {
            "text/plain": [
              "<Figure size 600x900 with 2 Axes>"
            ],
            "image/png": "[encoded data removed]"
          },
          "metadata": {}
        }
      ],
      "source": [
        "dataiter = iter(validloader)\n",
        "images, labels = next(dataiter)\n",
        "\n",
        "img = images[19]\n",
        "label = labels[19]\n",
        "\n",
        "# Make prediction\n",
        "model.eval()\n",
        "with torch.no_grad():\n",
        "    output = model(img.unsqueeze(0).to(device))  # add batch dimension\n",
        "    ps = torch.nn.functional.softmax(output, dim=1)\n",
        "\n",
        "# Visualize\n",
        "view_classify(img.cpu(), ps)\n"
      ]
    }
  ],
  "metadata": {
    "accelerator": "GPU",
    "colab": {
      "provenance": []
    },
    "kernelspec": {
      "display_name": "Python 3",
      "name": "python3"
    },
    "language_info": {
      "name": "python"
    }
  },
  "nbformat": 4,
  "nbformat_minor": 0
}